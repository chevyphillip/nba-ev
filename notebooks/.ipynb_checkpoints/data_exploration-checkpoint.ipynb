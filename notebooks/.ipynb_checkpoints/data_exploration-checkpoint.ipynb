{
  "nbformat": 4,
  "nbformat_minor": 5,
  "metadata": {},
  "cells": [
    {
      "id": "e856b7c8",
      "cell_type": "markdown",
      "source": "# NBA Stats Data Exploration and Visualization\n\nThis notebook explores and visualizes the NBA statistics collected by our data collection script.",
      "metadata": {}
    },
    {
      "id": "8116d6cf",
      "cell_type": "code",
      "metadata": {},
      "execution_count": null,
      "source": "import pandas as pd\nimport numpy as np\nimport matplotlib.pyplot as plt\nimport seaborn as sns\nfrom datetime import datetime\n\n# Set style for better visualizations\nplt.style.use('seaborn')\nsns.set_palette('husl')\n\n# Configure pandas display options\npd.set_option('display.max_columns', None)\npd.set_option('display.max_rows', 50)\n\n# Enable inline plotting\n%matplotlib inline",
      "outputs": []
    },
    {
      "id": "64ca5bed",
      "cell_type": "code",
      "metadata": {},
      "execution_count": null,
      "source": "# Load the data\ncurrent_date = datetime.now().strftime(\"%Y%m%d\")\nexcel_file = f\"../nba_stats_{current_date}.xlsx\"\n\n# Read each sheet into a dictionary of dataframes\ndata = pd.read_excel(excel_file, sheet_name=None)\n\n# Access individual dataframes\nteam_stats = data['team_stats']\nplayer_stats = data['player_stats']\npace_factors = data['pace_factors']\nteam_efficiency = data['team_efficiency']\nplayer_efficiency = data['player_efficiency']\n\n# Display available sheets\nprint(\"Available data sheets:\")\nfor sheet in data.keys():\n    print(f\"- {sheet}\")",
      "outputs": []
    },
    {
      "id": "0fa7f267",
      "cell_type": "markdown",
      "source": "## Team Statistics Overview",
      "metadata": {}
    },
    {
      "id": "ef29eb8b",
      "cell_type": "code",
      "metadata": {},
      "execution_count": null,
      "source": "# Display basic information about team stats\nprint(\"Team Stats Shape:\", team_stats.shape)\nprint(\"\\nTeam Stats Columns:\")\nprint(team_stats.columns.tolist())\nprint(\"\\nTeam Stats Summary:\")\nteam_stats.describe()",
      "outputs": []
    },
    {
      "id": "0ea3c0ec",
      "cell_type": "markdown",
      "source": "### Team Performance Metrics",
      "metadata": {}
    },
    {
      "id": "db2f2e13",
      "cell_type": "code",
      "metadata": {},
      "execution_count": null,
      "source": "# Create a scatter plot of Offensive vs Defensive Rating\nplt.figure(figsize=(12, 8))\nplt.scatter(team_stats['OFF_RATING'], team_stats['DEF_RATING'], alpha=0.6)\n\n# Add team labels\nfor i, txt in enumerate(team_stats['team']):\n    plt.annotate(txt, (team_stats['OFF_RATING'].iloc[i], team_stats['DEF_RATING'].iloc[i]))\n\nplt.xlabel('Offensive Rating')\nplt.ylabel('Defensive Rating')\nplt.title('Team Offensive vs Defensive Ratings')\n\n# Add quadrant lines at median values\nplt.axvline(team_stats['OFF_RATING'].median(), color='gray', linestyle='--', alpha=0.3)\nplt.axhline(team_stats['DEF_RATING'].median(), color='gray', linestyle='--', alpha=0.3)\n\nplt.show()",
      "outputs": []
    },
    {
      "id": "37f8792b",
      "cell_type": "markdown",
      "source": "### Team Pace Analysis",
      "metadata": {}
    },
    {
      "id": "517c0dff",
      "cell_type": "code",
      "metadata": {},
      "execution_count": null,
      "source": "# Create a bar plot of team pace factors\nplt.figure(figsize=(15, 6))\nsns.barplot(data=pace_factors.sort_values('PACE', ascending=False), \n            x='team', y='PACE')\nplt.xticks(rotation=45, ha='right')\nplt.title('Team Pace Factors')\nplt.xlabel('Team')\nplt.ylabel('Pace')\nplt.tight_layout()\nplt.show()",
      "outputs": []
    }
  ]
}